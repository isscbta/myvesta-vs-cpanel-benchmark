{
 "cells": [
  {
   "cell_type": "code",
   "execution_count": null,
   "id": "6b5932a4",
   "metadata": {},
   "outputs": [],
   "source": [
    "\n",
    "# All necessary data for this analysis (hardcoded from Excel extraction)\n",
    "themes = ['Astra', 'Elementor', 'Avada', 'Divi', 'WP Bakery + Woodmart']\n",
    "\n",
    "# TTFB (ms) for each theme (Frankfurt location or similar, lower is better)\n",
    "ttfb_data = {\n",
    "    'Astra':     {'cPanel': 507.16, 'myVesta': 187.20},\n",
    "    'Elementor': {'cPanel': 361.63, 'myVesta': 119.91},\n",
    "    'Avada':     {'cPanel': 557.00, 'myVesta': 149.90},\n",
    "    'Divi':      {'cPanel': 381.24, 'myVesta': 126.63},\n",
    "    'WP Bakery + Woodmart': {'cPanel': 532.66, 'myVesta': 246.62},\n",
    "}\n",
    "\n",
    "cpanel_ttfb = [ttfb_data[th]['cPanel'] for th in themes]\n",
    "myvesta_ttfb = [ttfb_data[th]['myVesta'] for th in themes]\n",
    "\n",
    "# K6 successful requests per theme (higher is better)\n",
    "k6_comp_data = [\n",
    "    {'Theme': 'Astra',     'cPanel': 29866, 'myVesta': 38671},\n",
    "    {'Theme': 'Elementor', 'cPanel': 29822, 'myVesta': 37448},\n",
    "    {'Theme': 'Avada',     'cPanel': 28942, 'myVesta': 35801},\n",
    "    {'Theme': 'Divi',      'cPanel': 29380, 'myVesta': 36455},\n",
    "    {'Theme': 'WP Bakery + Woodmart', 'cPanel': 28634, 'myVesta': 35532},\n",
    "]\n",
    "\n",
    "k6_themes = [d['Theme'] for d in k6_comp_data]\n",
    "k6_cpanel = [d['cPanel'] for d in k6_comp_data]\n",
    "k6_myvesta = [d['myVesta'] for d in k6_comp_data]\n"
   ]
  },
  {
   "cell_type": "markdown",
   "id": "6a60bbd3",
   "metadata": {},
   "source": [
    "\n",
    "# WordPress Hosting Performance: TTFB & K6 Comparative Visual Analysis\n",
    "\n",
    "This notebook presents a clear, visual comparison of two key aspects of our WordPress hosting benchmarks:\n",
    "\n",
    "1. **TTFB (Time To First Byte) comparison across all major themes** (lower is better).\n",
    "2. **k6.io performance analysis** (higher is better for successful requests) between cPanel and myVesta, by theme.\n",
    "\n",
    "---\n"
   ]
  },
  {
   "cell_type": "code",
   "execution_count": null,
   "id": "686a1f10",
   "metadata": {},
   "outputs": [],
   "source": [
    "\n",
    "import matplotlib.pyplot as plt\n",
    "import numpy as np\n"
   ]
  },
  {
   "cell_type": "markdown",
   "id": "17196219",
   "metadata": {},
   "source": [
    "\n",
    "## TTFB Comparison for All Themes\n",
    "\n",
    "Below you can see the TTFB (ms) values for each theme, measured on both cPanel (LiteSpeed) and myVesta.  \n",
    "**Lower values are better.**\n"
   ]
  },
  {
   "cell_type": "code",
   "execution_count": null,
   "id": "d6016cb5",
   "metadata": {},
   "outputs": [],
   "source": [
    "\n",
    "x = np.arange(len(themes))\n",
    "width = 0.35\n",
    "\n",
    "fig, ax = plt.subplots(figsize=(9,5))\n",
    "bars1 = ax.bar(x - width/2, cpanel_ttfb, width, label='cPanel + LiteSpeed')\n",
    "bars2 = ax.bar(x + width/2, myvesta_ttfb, width, label='myVesta')\n",
    "\n",
    "ax.set_ylabel('TTFB (ms)')\n",
    "ax.set_title('TTFB by Theme (lower is better)')\n",
    "ax.set_xticks(x)\n",
    "ax.set_xticklabels(themes, rotation=20)\n",
    "ax.legend()\n",
    "plt.grid(axis='y', linestyle=':', alpha=0.5)\n",
    "plt.tight_layout()\n",
    "plt.show()\n"
   ]
  },
  {
   "cell_type": "markdown",
   "id": "21da98f8",
   "metadata": {},
   "source": [
    "\n",
    "**Conclusion:**  \n",
    "Across all themes, myVesta consistently delivers lower TTFB than cPanel + LiteSpeed. The advantage is visible regardless of theme complexity.  \n",
    "**Lower TTFB means faster initial loading for your visitors and better SEO.**\n"
   ]
  },
  {
   "cell_type": "markdown",
   "id": "f142dc09",
   "metadata": {},
   "source": [
    "\n",
    "## k6.io Comparative Analysis by Theme\n",
    "\n",
    "This chart shows the k6 test results by theme. Values represent the **number of successful requests per test** for cPanel and myVesta.  \n",
    "**Higher values are better.**\n"
   ]
  },
  {
   "cell_type": "code",
   "execution_count": null,
   "id": "d236e919",
   "metadata": {},
   "outputs": [],
   "source": [
    "\n",
    "x = np.arange(len(k6_themes))\n",
    "width = 0.35\n",
    "\n",
    "fig, ax = plt.subplots(figsize=(9,5))\n",
    "bars1 = ax.bar(x - width/2, k6_cpanel, width, label='cPanel + LiteSpeed')\n",
    "bars2 = ax.bar(x + width/2, k6_myvesta, width, label='myVesta')\n",
    "\n",
    "ax.set_ylabel('k6: Successful Requests')\n",
    "ax.set_title('k6 Performance by Theme (higher is better)')\n",
    "ax.set_xticks(x)\n",
    "ax.set_xticklabels(k6_themes, rotation=20)\n",
    "ax.legend()\n",
    "plt.grid(axis='y', linestyle=':', alpha=0.5)\n",
    "plt.tight_layout()\n",
    "plt.show()\n"
   ]
  },
  {
   "cell_type": "markdown",
   "id": "5cd73d65",
   "metadata": {},
   "source": [
    "\n",
    "**Conclusion:**  \n",
    "myVesta consistently achieves more successful requests during k6 load tests for every WordPress theme compared to cPanel + LiteSpeed.  \n",
    "**Higher values indicate better concurrency handling and more robust performance under heavy load.**\n"
   ]
  },
  {
   "cell_type": "markdown",
   "id": "eac65746",
   "metadata": {},
   "source": [
    "\n",
    "---\n",
    "\n",
    "## Notes\n",
    "\n",
    "- **Lower is better:** for TTFB, average response time, and all latency metrics.\n",
    "- **Higher is better:** for successful requests, throughput, and concurrent user handling.\n",
    "\n",
    "These results further confirm the efficiency of myVesta for WordPress hosting—regardless of the theme in use.\n",
    "\n",
    "---\n"
   ]
  }
 ],
 "metadata": {},
 "nbformat": 4,
 "nbformat_minor": 5
}
